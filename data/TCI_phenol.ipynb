{
 "cells": [
  {
   "cell_type": "code",
   "execution_count": 1,
   "metadata": {},
   "outputs": [],
   "source": [
    "from rdkit import Chem\n",
    "from rdkit.Chem import PandasTools, SaltRemover\n",
    "import pandas as pd"
   ]
  },
  {
   "cell_type": "code",
   "execution_count": 3,
   "metadata": {},
   "outputs": [],
   "source": [
    "# SDFファイルを指定\n",
    "sdf_file_path = 'PubChem_substance_phenol.sdf'\n",
    "\n",
    "# SaltRemoverを初期化\n",
    "remover = SaltRemover.SaltRemover()\n",
    "\n",
    "# 塩の有無を判定する関数\n",
    "def has_salt(mol):\n",
    "    if mol is None:\n",
    "        return None\n",
    "    try:\n",
    "        stripped_mol = remover.StripMol(mol)\n",
    "        return mol.GetNumAtoms() != stripped_mol.GetNumAtoms()\n",
    "    except Exception:\n",
    "        return None  # エラーが発生した場合は None を返す\n",
    "\n",
    "# カスタマイズしたロード処理\n",
    "data = []\n",
    "supplier = Chem.SDMolSupplier(sdf_file_path)\n",
    "\n",
    "for mol in supplier:\n",
    "    if mol:  # 無効な分子をスキップ\n",
    "        try:\n",
    "            smiles = Chem.MolToSmiles(mol)\n",
    "            salt_flag = has_salt(mol)\n",
    "            data.append({\"SMILES\": smiles, \"Molecule\": mol, \"HasSalt\": salt_flag})\n",
    "        except Exception:\n",
    "            # エラーが発生した場合の処理\n",
    "            data.append({\"SMILES\": None, \"Molecule\": None, \"HasSalt\": None})\n",
    "\n",
    "# DataFrameに変換\n",
    "df = pd.DataFrame(data)\n",
    "\n",
    "# PandasToolsでMolecule列を強化\n",
    "PandasTools.AddMoleculeColumnToFrame(df, smilesCol='SMILES', molCol='Molecule')\n",
    "\n",
    "# サマリー作成\n",
    "summary = {\n",
    "    \"Total Molecules\": len(df),\n",
    "    \"Valid Molecules\": len(df[df[\"Molecule\"].notnull()]),\n",
    "    \"Molecules with Salts\": df[\"HasSalt\"].sum(),\n",
    "    \"Without Salts\": len(df[df[\"Molecule\"].notnull()]) - df[\"HasSalt\"].sum(),\n",
    "    \"Invalid Molecules\": len(df[df[\"Molecule\"].isnull()])\n",
    "}\n"
   ]
  },
  {
   "cell_type": "code",
   "execution_count": 5,
   "metadata": {},
   "outputs": [
    {
     "data": {
      "text/plain": [
       "{'Total Molecules': 133,\n",
       " 'Valid Molecules': 133,\n",
       " 'Molecules with Salts': 7,\n",
       " 'Without Salts': 126,\n",
       " 'Invalid Molecules': 0}"
      ]
     },
     "execution_count": 5,
     "metadata": {},
     "output_type": "execute_result"
    }
   ],
   "source": [
    "summary"
   ]
  }
 ],
 "metadata": {
  "kernelspec": {
   "display_name": "Python 3",
   "language": "python",
   "name": "python3"
  },
  "language_info": {
   "codemirror_mode": {
    "name": "ipython",
    "version": 3
   },
   "file_extension": ".py",
   "mimetype": "text/x-python",
   "name": "python",
   "nbconvert_exporter": "python",
   "pygments_lexer": "ipython3",
   "version": "3.11.8"
  }
 },
 "nbformat": 4,
 "nbformat_minor": 2
}
